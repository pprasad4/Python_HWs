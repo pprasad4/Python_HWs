{
 "cells": [
  {
   "cell_type": "markdown",
   "id": "35d92fcf",
   "metadata": {},
   "source": [
    "**Write a program to convert keys in to values and vice versa**"
   ]
  },
  {
   "cell_type": "code",
   "execution_count": 10,
   "id": "125dd785",
   "metadata": {},
   "outputs": [],
   "source": [
    "data = {'a':4,'l':5,'c':\"python\",'f':89}"
   ]
  },
  {
   "cell_type": "code",
   "execution_count": 11,
   "id": "d9c78553",
   "metadata": {},
   "outputs": [
    {
     "data": {
      "text/plain": [
       "['a', 'l', 'c', 'f']"
      ]
     },
     "execution_count": 11,
     "metadata": {},
     "output_type": "execute_result"
    }
   ],
   "source": [
    "a = list(data.keys())\n",
    "a"
   ]
  },
  {
   "cell_type": "code",
   "execution_count": 12,
   "id": "5d5f1d0e",
   "metadata": {},
   "outputs": [
    {
     "data": {
      "text/plain": [
       "[4, 5, 'python', 89]"
      ]
     },
     "execution_count": 12,
     "metadata": {},
     "output_type": "execute_result"
    }
   ],
   "source": [
    "b = list(data.values())\n",
    "b"
   ]
  },
  {
   "cell_type": "code",
   "execution_count": 14,
   "id": "8a0778b0",
   "metadata": {},
   "outputs": [
    {
     "data": {
      "text/plain": [
       "{4: 'a', 5: 'l', 'python': 'c', 89: 'f'}"
      ]
     },
     "execution_count": 14,
     "metadata": {},
     "output_type": "execute_result"
    }
   ],
   "source": [
    "mix_match = zip(b,a)\n",
    "dict(mix_match)"
   ]
  },
  {
   "cell_type": "code",
   "execution_count": 15,
   "id": "b98adc95",
   "metadata": {},
   "outputs": [
    {
     "data": {
      "text/plain": [
       "{'a': 4, 'l': 5, 'c': 'python', 'f': 89}"
      ]
     },
     "execution_count": 15,
     "metadata": {},
     "output_type": "execute_result"
    }
   ],
   "source": [
    "match_mix = zip(a,b)\n",
    "dict(match_mix)"
   ]
  },
  {
   "cell_type": "markdown",
   "id": "80fb1ebc",
   "metadata": {},
   "source": [
    "**Python Program to Add a Key-Value Pair to the Dictionary**"
   ]
  },
  {
   "cell_type": "code",
   "execution_count": 18,
   "id": "e2be6659",
   "metadata": {},
   "outputs": [
    {
     "data": {
      "text/plain": [
       "{'z': 1, 'b': 2, 'c': 7, 'd': 6, 'prakhar': 25}"
      ]
     },
     "execution_count": 18,
     "metadata": {},
     "output_type": "execute_result"
    }
   ],
   "source": [
    "data1 = {'z':1,'b':2,'c':7,'d':6}\n",
    "data1['prakhar'] = 25\n",
    "data1"
   ]
  },
  {
   "cell_type": "markdown",
   "id": "afc46d00",
   "metadata": {},
   "source": [
    "**Python Program to Concatenate Two Dictionaries Into One**"
   ]
  },
  {
   "cell_type": "code",
   "execution_count": 20,
   "id": "d4cded3e",
   "metadata": {},
   "outputs": [
    {
     "data": {
      "text/plain": [
       "{'a': 100,\n",
       " 'b': 200,\n",
       " 'c': 300,\n",
       " 'Mike Jones': '281-330-8004',\n",
       " '1': '867-5309',\n",
       " '3': '900-783-3369'}"
      ]
     },
     "execution_count": 20,
     "metadata": {},
     "output_type": "execute_result"
    }
   ],
   "source": [
    "myDict = {'a': 100, 'b':200, 'c':300} \n",
    "phonebook = {\"Mike Jones\": \"281-330-8004\",'1': \"867-5309\",'3': \"900-783-3369\"}\n",
    "myDict.update(phonebook)\n",
    "myDict"
   ]
  },
  {
   "cell_type": "markdown",
   "id": "d6715650",
   "metadata": {},
   "source": [
    "**Python Program to Check if a Given Key Exists in a Dictionary or Not***"
   ]
  },
  {
   "cell_type": "code",
   "execution_count": 21,
   "id": "34db9745",
   "metadata": {},
   "outputs": [
    {
     "name": "stdout",
     "output_type": "stream",
     "text": [
      "present!\n"
     ]
    }
   ],
   "source": [
    "#checking if 'Mike Jones' exists in myDict\n",
    "\n",
    "if 'Mike Jones' in myDict:\n",
    "    print('present!')\n",
    "else:\n",
    "    print('not present')"
   ]
  },
  {
   "cell_type": "markdown",
   "id": "d606ff33",
   "metadata": {},
   "source": [
    "**Python Program to Generate a Dictionary that Contains Numbers (between 1 and n) in the Form (x,x*x)**"
   ]
  },
  {
   "cell_type": "markdown",
   "id": "18da2fcd",
   "metadata": {},
   "source": [
    "**Python Program to Sum All the Items in a Dictionary**"
   ]
  },
  {
   "cell_type": "code",
   "execution_count": 23,
   "id": "5a4ff150",
   "metadata": {},
   "outputs": [
    {
     "data": {
      "text/plain": [
       "{'a': 10, 'b': 20, 'c': 30, 'd': 40, 'e': 50}"
      ]
     },
     "execution_count": 23,
     "metadata": {},
     "output_type": "execute_result"
    }
   ],
   "source": [
    "sum_of_dict = dict(a=10, b=20, c=30, d=40, e=50)\n",
    "sum_of_dict"
   ]
  },
  {
   "cell_type": "code",
   "execution_count": 24,
   "id": "f9f49d71",
   "metadata": {},
   "outputs": [
    {
     "data": {
      "text/plain": [
       "150"
      ]
     },
     "execution_count": 24,
     "metadata": {},
     "output_type": "execute_result"
    }
   ],
   "source": [
    "summ = 0\n",
    "for i in sum_of_dict:\n",
    "    summ = summ + sum_of_dict[i]\n",
    "summ"
   ]
  },
  {
   "cell_type": "markdown",
   "id": "8b4c60d7",
   "metadata": {},
   "source": [
    "**Python Program to Multiply All the Items in a Dictionary**"
   ]
  },
  {
   "cell_type": "code",
   "execution_count": 25,
   "id": "6ab0b1e9",
   "metadata": {},
   "outputs": [
    {
     "data": {
      "text/plain": [
       "120"
      ]
     },
     "execution_count": 25,
     "metadata": {},
     "output_type": "execute_result"
    }
   ],
   "source": [
    "prod_of_dict = dict(a=1, b=2, c=3, d=4, e=5)\n",
    "\n",
    "prod = 1\n",
    "for i in prod_of_dict:\n",
    "    prod = prod*prod_of_dict[i]\n",
    "prod"
   ]
  },
  {
   "cell_type": "markdown",
   "id": "4bbeb9fa",
   "metadata": {},
   "source": [
    "**Python Program to Remove the Given Key from a Dictionary**"
   ]
  },
  {
   "cell_type": "code",
   "execution_count": 37,
   "id": "829f5d7f",
   "metadata": {},
   "outputs": [],
   "source": [
    "data1 = {'a':1,'b':2,'c':7,'k':6}\n",
    "\n",
    "del data1['a']"
   ]
  },
  {
   "cell_type": "code",
   "execution_count": 38,
   "id": "cb7e2a06",
   "metadata": {},
   "outputs": [
    {
     "data": {
      "text/plain": [
       "{'b': 2, 'c': 7, 'k': 6}"
      ]
     },
     "execution_count": 38,
     "metadata": {},
     "output_type": "execute_result"
    }
   ],
   "source": [
    "data1"
   ]
  },
  {
   "cell_type": "code",
   "execution_count": 39,
   "id": "509d3249",
   "metadata": {},
   "outputs": [
    {
     "data": {
      "text/plain": [
       "{'b': 2, 'c': 7}"
      ]
     },
     "execution_count": 39,
     "metadata": {},
     "output_type": "execute_result"
    }
   ],
   "source": [
    "del data1['k']\n",
    "data1"
   ]
  },
  {
   "cell_type": "markdown",
   "id": "6e777bd8",
   "metadata": {},
   "source": [
    "**Python Program to Map Two Lists into a Dictionary**"
   ]
  },
  {
   "cell_type": "code",
   "execution_count": 40,
   "id": "e2f347c1",
   "metadata": {},
   "outputs": [],
   "source": [
    "dish = ['samosa', 'pizza', 'burger']\n",
    "country = ['India', 'Italy', 'USA']\n",
    "\n",
    "dishOfCountry = zip(country,dish)"
   ]
  },
  {
   "cell_type": "code",
   "execution_count": 41,
   "id": "5bbb7e1b",
   "metadata": {},
   "outputs": [
    {
     "data": {
      "text/plain": [
       "{'India': 'samosa', 'Italy': 'pizza', 'USA': 'burger'}"
      ]
     },
     "execution_count": 41,
     "metadata": {},
     "output_type": "execute_result"
    }
   ],
   "source": [
    "dict(dishOfCountry)"
   ]
  },
  {
   "cell_type": "markdown",
   "id": "980f148a",
   "metadata": {},
   "source": [
    "**Python Program to Count the Frequency of Words Appearing in a String Using a Dictionary**"
   ]
  },
  {
   "cell_type": "code",
   "execution_count": 48,
   "id": "8e8c8cf5",
   "metadata": {},
   "outputs": [
    {
     "data": {
      "text/plain": [
       "{'p': 2, 'r': 3, 'a': 4, 'k': 1, 'h': 1, 's': 1, 'd': 1}"
      ]
     },
     "execution_count": 48,
     "metadata": {},
     "output_type": "execute_result"
    }
   ],
   "source": [
    "s = 'prakharprasad'\n",
    "\n",
    "d = {}\n",
    "\n",
    "for i in s:\n",
    "    if i in d:\n",
    "        d[i] += 1\n",
    "    else:\n",
    "        d[i] = 1\n",
    "d"
   ]
  },
  {
   "cell_type": "markdown",
   "id": "558bd634",
   "metadata": {},
   "source": [
    "**Python Program to Form a Dictionary from an Object of a Class**"
   ]
  },
  {
   "cell_type": "markdown",
   "id": "aedb0fec",
   "metadata": {},
   "source": [
    "**Python Program to Generate a Dictionary that Contains Numbers (between 1 and n) in the Form (x,x*x)**"
   ]
  },
  {
   "cell_type": "markdown",
   "id": "f33bdd54",
   "metadata": {},
   "source": [
    "**Python Program to Create a Dictionary with Key as First Character and Value as Words Starting with that Charact* er**"
   ]
  },
  {
   "cell_type": "code",
   "execution_count": null,
   "id": "42fb80de",
   "metadata": {},
   "outputs": [],
   "source": []
  }
 ],
 "metadata": {
  "kernelspec": {
   "display_name": "Python 3",
   "language": "python",
   "name": "python3"
  },
  "language_info": {
   "codemirror_mode": {
    "name": "ipython",
    "version": 3
   },
   "file_extension": ".py",
   "mimetype": "text/x-python",
   "name": "python",
   "nbconvert_exporter": "python",
   "pygments_lexer": "ipython3",
   "version": "3.8.8"
  }
 },
 "nbformat": 4,
 "nbformat_minor": 5
}
