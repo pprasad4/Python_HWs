{
 "cells": [
  {
   "cell_type": "markdown",
   "id": "37980b9c",
   "metadata": {},
   "source": [
    "**1. For a list [\"foo\", \"bar\", \"baz\"] add an item in the list \"bar\", what's the cleanest way to get its index (1) in Python?**"
   ]
  },
  {
   "cell_type": "code",
   "execution_count": 3,
   "id": "d81b5eca",
   "metadata": {},
   "outputs": [
    {
     "name": "stdout",
     "output_type": "stream",
     "text": [
      "['foo', 'bar', 'baz', 'bar']\n"
     ]
    },
    {
     "data": {
      "text/plain": [
       "1"
      ]
     },
     "execution_count": 3,
     "metadata": {},
     "output_type": "execute_result"
    }
   ],
   "source": [
    "l =  [\"foo\", \"bar\", \"baz\"] \n",
    "l.append('bar')\n",
    "print(l)\n",
    "l.index('bar')"
   ]
  },
  {
   "cell_type": "markdown",
   "id": "5d8f2e34",
   "metadata": {},
   "source": [
    "**2. Best way to check if a list is empty**"
   ]
  },
  {
   "cell_type": "code",
   "execution_count": 4,
   "id": "f0627af0",
   "metadata": {},
   "outputs": [
    {
     "data": {
      "text/plain": [
       "0"
      ]
     },
     "execution_count": 4,
     "metadata": {},
     "output_type": "execute_result"
    }
   ],
   "source": [
    "a = []\n",
    "len(a)"
   ]
  },
  {
   "cell_type": "markdown",
   "id": "36e487c6",
   "metadata": {},
   "source": [
    "**3. Getting the last element of a list in Python**"
   ]
  },
  {
   "cell_type": "code",
   "execution_count": 6,
   "id": "ec86115e",
   "metadata": {},
   "outputs": [
    {
     "data": {
      "text/plain": [
       "[1, 2, 3]"
      ]
     },
     "execution_count": 6,
     "metadata": {},
     "output_type": "execute_result"
    }
   ],
   "source": [
    "a=[0,1,0,2,3,\"python\",\"jaava\",[1,2,3]]\n",
    "a[-1]"
   ]
  },
  {
   "cell_type": "markdown",
   "id": "dc8d6051",
   "metadata": {},
   "source": [
    "**4. How to clone or copy a list?**"
   ]
  },
  {
   "cell_type": "code",
   "execution_count": 9,
   "id": "e848842c",
   "metadata": {},
   "outputs": [
    {
     "name": "stdout",
     "output_type": "stream",
     "text": [
      "[0, 1, 0, 2, 3, 'python', 'jaava', [1, 2, 3]]\n",
      "[0, 1, 0, 2, 3, 'python', 'jaava', [1, 2, 3]]\n",
      "True\n"
     ]
    }
   ],
   "source": [
    "a=[0,1,0,2,3,\"python\",\"jaava\",[1,2,3]]\n",
    "b = a.copy()\n",
    "print(a)\n",
    "print(b)\n",
    "print(a==b)"
   ]
  },
  {
   "cell_type": "markdown",
   "id": "6a818f24",
   "metadata": {},
   "source": [
    "**5. How can I count the occurrences of a list item in Python?**"
   ]
  },
  {
   "cell_type": "code",
   "execution_count": 11,
   "id": "25110d2c",
   "metadata": {},
   "outputs": [
    {
     "name": "stdout",
     "output_type": "stream",
     "text": [
      "the number of times 0 appears in the above list is:  2\n"
     ]
    }
   ],
   "source": [
    "a=[0,1,0,2,3,\"python\",\"jaava\",[1,2,3]]\n",
    "b = a.count(0)\n",
    "print('the number of times 0 appears in the above list is: ',b)"
   ]
  },
  {
   "cell_type": "markdown",
   "id": "1ddf2fe9",
   "metadata": {},
   "source": [
    "**6. How do I remove the first Item from a Python list?**"
   ]
  },
  {
   "cell_type": "code",
   "execution_count": 18,
   "id": "3a1dd5d9",
   "metadata": {},
   "outputs": [
    {
     "name": "stdout",
     "output_type": "stream",
     "text": [
      "0\n"
     ]
    },
    {
     "data": {
      "text/plain": [
       "[1, 0, 2, 3, 'python', 'jaava', [1, 2, 3]]"
      ]
     },
     "execution_count": 18,
     "metadata": {},
     "output_type": "execute_result"
    }
   ],
   "source": [
    "a=[0,1,0,2,3,\"python\",\"jaava\",[1,2,3]]\n",
    "x=a.pop(0)\n",
    "print(x)\n",
    "a"
   ]
  },
  {
   "cell_type": "code",
   "execution_count": null,
   "id": "0f29eb42",
   "metadata": {},
   "outputs": [],
   "source": []
  }
 ],
 "metadata": {
  "kernelspec": {
   "display_name": "Python 3",
   "language": "python",
   "name": "python3"
  },
  "language_info": {
   "codemirror_mode": {
    "name": "ipython",
    "version": 3
   },
   "file_extension": ".py",
   "mimetype": "text/x-python",
   "name": "python",
   "nbconvert_exporter": "python",
   "pygments_lexer": "ipython3",
   "version": "3.8.8"
  }
 },
 "nbformat": 4,
 "nbformat_minor": 5
}
