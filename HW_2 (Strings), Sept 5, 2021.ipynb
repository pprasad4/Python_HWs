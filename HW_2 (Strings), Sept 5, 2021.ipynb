{
 "cells": [
  {
   "cell_type": "markdown",
   "id": "6c158d71",
   "metadata": {},
   "source": [
    "**1. check if it is perllindrome (NITIN)**"
   ]
  },
  {
   "cell_type": "code",
   "execution_count": 5,
   "id": "2c4a3708",
   "metadata": {},
   "outputs": [
    {
     "name": "stdout",
     "output_type": "stream",
     "text": [
      "NITIN\n",
      "NITIN\n"
     ]
    },
    {
     "data": {
      "text/plain": [
       "True"
      ]
     },
     "execution_count": 5,
     "metadata": {},
     "output_type": "execute_result"
    }
   ],
   "source": [
    "a = 'NITIN'\n",
    "b = a[::-1]\n",
    "print(a)\n",
    "print(b)\n",
    "a == b"
   ]
  },
  {
   "cell_type": "markdown",
   "id": "3eafe6dc",
   "metadata": {},
   "source": [
    "**2. print the  reverse half of a string (argentina.. negratina)**"
   ]
  },
  {
   "cell_type": "code",
   "execution_count": 15,
   "id": "d9158c59",
   "metadata": {},
   "outputs": [
    {
     "name": "stdout",
     "output_type": "stream",
     "text": [
      "half the length of the given string is:  10.5\n",
      "\n",
      "argentina..\n",
      "..anitnegra\n"
     ]
    }
   ],
   "source": [
    "st = 'argentina.. negratina'\n",
    "len(st)\n",
    "half_len = len(st)/2\n",
    "print('half the length of the given string is: ',half_len)\n",
    "print()\n",
    "half_st = st[0:11]\n",
    "print(half_st)\n",
    "rev = half_st[::-1]\n",
    "print(rev)"
   ]
  },
  {
   "cell_type": "markdown",
   "id": "5440806a",
   "metadata": {},
   "source": [
    "**3. write a program to check if the string is startswith, endswith, capitalize**"
   ]
  },
  {
   "cell_type": "code",
   "execution_count": 19,
   "id": "fe050001",
   "metadata": {},
   "outputs": [
    {
     "name": "stdout",
     "output_type": "stream",
     "text": [
      "True\n",
      "True\n",
      "ARGENTINA.. NEGRATINA\n"
     ]
    }
   ],
   "source": [
    "print(st.startswith('a'))\n",
    "print(st.endswith('a'))\n",
    "print(st.upper())"
   ]
  },
  {
   "cell_type": "code",
   "execution_count": null,
   "id": "303ff382",
   "metadata": {},
   "outputs": [],
   "source": []
  }
 ],
 "metadata": {
  "kernelspec": {
   "display_name": "Python 3",
   "language": "python",
   "name": "python3"
  },
  "language_info": {
   "codemirror_mode": {
    "name": "ipython",
    "version": 3
   },
   "file_extension": ".py",
   "mimetype": "text/x-python",
   "name": "python",
   "nbconvert_exporter": "python",
   "pygments_lexer": "ipython3",
   "version": "3.8.8"
  }
 },
 "nbformat": 4,
 "nbformat_minor": 5
}
