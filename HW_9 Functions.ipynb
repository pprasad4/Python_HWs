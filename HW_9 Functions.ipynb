{
 "cells": [
  {
   "cell_type": "markdown",
   "id": "4ef7be5c",
   "metadata": {},
   "source": [
    "1) Swapping 2 numbers"
   ]
  },
  {
   "cell_type": "code",
   "execution_count": 4,
   "id": "6d230847",
   "metadata": {},
   "outputs": [],
   "source": [
    "def swap(a,b,c=0):\n",
    "    print('the val of a is: ',a)\n",
    "    print('the val of b is: ',b)\n",
    "    c = a\n",
    "    a = b\n",
    "    b = c\n",
    "    return print(f'the swapped values are {a} and {b}')"
   ]
  },
  {
   "cell_type": "code",
   "execution_count": 5,
   "id": "2ab052f3",
   "metadata": {},
   "outputs": [
    {
     "name": "stdout",
     "output_type": "stream",
     "text": [
      "the val of a is:  10\n",
      "the val of b is:  20\n",
      "the swapped values are 20 and 10\n"
     ]
    }
   ],
   "source": [
    "swap(10,20)"
   ]
  },
  {
   "cell_type": "markdown",
   "id": "54b71343",
   "metadata": {},
   "source": [
    "2) Check if pallindrome"
   ]
  },
  {
   "cell_type": "code",
   "execution_count": 8,
   "id": "e92fe861",
   "metadata": {},
   "outputs": [],
   "source": [
    "def pall(string):\n",
    "    a = string\n",
    "    b = a[::-1]\n",
    "    if a==b:\n",
    "        return 'this is pallindrome'\n",
    "    else:\n",
    "        return 'not a pallindrome'"
   ]
  },
  {
   "cell_type": "code",
   "execution_count": 12,
   "id": "f20b525d",
   "metadata": {},
   "outputs": [
    {
     "data": {
      "text/plain": [
       "'this is pallindrome'"
      ]
     },
     "execution_count": 12,
     "metadata": {},
     "output_type": "execute_result"
    }
   ],
   "source": [
    "pall('NAMAN')"
   ]
  },
  {
   "cell_type": "markdown",
   "id": "36eda3fb",
   "metadata": {},
   "source": [
    "**3) print the reverse half of a string (argentina.. negratina)**"
   ]
  },
  {
   "cell_type": "markdown",
   "id": "a54a4a2c",
   "metadata": {},
   "source": [
    "4) For a list [\"foo\", \"bar\", \"baz\"] add an item in the list \"bar\", what's the cleanest way to get its index (1) in Python?"
   ]
  },
  {
   "cell_type": "code",
   "execution_count": 21,
   "id": "9bb0c708",
   "metadata": {},
   "outputs": [],
   "source": [
    "l =  [\"foo\", \"bar\", \"baz\"] \n",
    "def app_to_str(item):\n",
    "    l.append(item)\n",
    "    print('index of last element is: ',l.index(item))\n",
    "    return l"
   ]
  },
  {
   "cell_type": "code",
   "execution_count": 22,
   "id": "8e60466d",
   "metadata": {},
   "outputs": [
    {
     "name": "stdout",
     "output_type": "stream",
     "text": [
      "index of last element is:  3\n"
     ]
    },
    {
     "data": {
      "text/plain": [
       "['foo', 'bar', 'baz', 'app']"
      ]
     },
     "execution_count": 22,
     "metadata": {},
     "output_type": "execute_result"
    }
   ],
   "source": [
    "app_to_str('app')"
   ]
  },
  {
   "cell_type": "markdown",
   "id": "55609272",
   "metadata": {},
   "source": [
    "5) Best way to check if a list is empty"
   ]
  },
  {
   "cell_type": "code",
   "execution_count": 29,
   "id": "e85c7250",
   "metadata": {},
   "outputs": [],
   "source": [
    "def checkiflistempty(l):\n",
    "    a = len(l)\n",
    "    if a == 0:\n",
    "        return 'EMPTY list!!!'\n",
    "    else:\n",
    "        return 'NOT empty list'"
   ]
  },
  {
   "cell_type": "code",
   "execution_count": 30,
   "id": "1ab46b3c",
   "metadata": {},
   "outputs": [
    {
     "data": {
      "text/plain": [
       "'NOT empty list'"
      ]
     },
     "execution_count": 30,
     "metadata": {},
     "output_type": "execute_result"
    }
   ],
   "source": [
    "checkiflistempty([1,2,3])"
   ]
  },
  {
   "cell_type": "markdown",
   "id": "793aff9e",
   "metadata": {},
   "source": [
    "6) Getting the last element of a list in Python"
   ]
  },
  {
   "cell_type": "code",
   "execution_count": 31,
   "id": "902f142b",
   "metadata": {},
   "outputs": [],
   "source": [
    "def last_element(l):\n",
    "    a = l[-1]\n",
    "    return a"
   ]
  },
  {
   "cell_type": "code",
   "execution_count": 32,
   "id": "112524e2",
   "metadata": {},
   "outputs": [
    {
     "data": {
      "text/plain": [
       "[1, 2, 3]"
      ]
     },
     "execution_count": 32,
     "metadata": {},
     "output_type": "execute_result"
    }
   ],
   "source": [
    "last_element([0,1,0,2,3,\"python\",\"jaava\",[1,2,3]])"
   ]
  },
  {
   "cell_type": "markdown",
   "id": "f4ec7a14",
   "metadata": {},
   "source": [
    "7) How to clone or copy a list?"
   ]
  },
  {
   "cell_type": "code",
   "execution_count": 33,
   "id": "1981f370",
   "metadata": {},
   "outputs": [],
   "source": [
    "def copy_lst(l):\n",
    "    a = l.copy()\n",
    "    return a"
   ]
  },
  {
   "cell_type": "code",
   "execution_count": 34,
   "id": "572c265b",
   "metadata": {},
   "outputs": [
    {
     "data": {
      "text/plain": [
       "[0, 1, 0, 2, 3, 'python', 'jaava', [1, 2, 3]]"
      ]
     },
     "execution_count": 34,
     "metadata": {},
     "output_type": "execute_result"
    }
   ],
   "source": [
    "copy_lst([0,1,0,2,3,\"python\",\"jaava\",[1,2,3]])"
   ]
  },
  {
   "cell_type": "markdown",
   "id": "4b45b4b7",
   "metadata": {},
   "source": [
    "8) How can I count the occurrences of a list item in Python?"
   ]
  },
  {
   "cell_type": "code",
   "execution_count": 44,
   "id": "883e7a62",
   "metadata": {},
   "outputs": [],
   "source": [
    "def cnt(l, item):\n",
    "    print(f'checking to see how many times {item} appears in the list {l}')\n",
    "    a = l.count(item)\n",
    "    print(f'it appears...')\n",
    "    return a"
   ]
  },
  {
   "cell_type": "code",
   "execution_count": 45,
   "id": "d65ade7f",
   "metadata": {},
   "outputs": [
    {
     "name": "stdout",
     "output_type": "stream",
     "text": [
      "checking to see how many times 0 appears in the list [0, 1, 0, 2, 3, 'python', 'jaava', [1, 2, 3]]\n",
      "it appears...\n"
     ]
    },
    {
     "data": {
      "text/plain": [
       "2"
      ]
     },
     "execution_count": 45,
     "metadata": {},
     "output_type": "execute_result"
    }
   ],
   "source": [
    "cnt([0,1,0,2,3,\"python\",\"jaava\",[1,2,3]], 0)"
   ]
  },
  {
   "cell_type": "markdown",
   "id": "45ddfc63",
   "metadata": {},
   "source": [
    "9) How do I remove the first Item from a Python list?"
   ]
  },
  {
   "cell_type": "code",
   "execution_count": 46,
   "id": "b14564c1",
   "metadata": {},
   "outputs": [],
   "source": [
    "def popp(l):\n",
    "    print('the given list is: ',l)\n",
    "    a = l.pop(0)\n",
    "    print('the first item removed is: ')\n",
    "    return a "
   ]
  },
  {
   "cell_type": "code",
   "execution_count": 48,
   "id": "324f7190",
   "metadata": {},
   "outputs": [
    {
     "name": "stdout",
     "output_type": "stream",
     "text": [
      "the given list is:  [2, 3, 'python', 'jaava', [1, 2, 3]]\n",
      "the first item removed is: \n"
     ]
    },
    {
     "data": {
      "text/plain": [
       "2"
      ]
     },
     "execution_count": 48,
     "metadata": {},
     "output_type": "execute_result"
    }
   ],
   "source": [
    "popp([2,3,\"python\",\"jaava\",[1,2,3]])"
   ]
  },
  {
   "cell_type": "markdown",
   "id": "5e776aa5",
   "metadata": {},
   "source": [
    "10) The current year and the year in which the employee joined the organization are entered through the keyboard. If the number of years for which the employee has served the organization is greater than 3 then a bonus of Rs. 2500/- is given to the employee. If the years of service are not greater than 3, then the program should do nothing."
   ]
  },
  {
   "cell_type": "code",
   "execution_count": 67,
   "id": "ac451b46",
   "metadata": {},
   "outputs": [],
   "source": [
    "def bonus():\n",
    "    curr_yr = int(input('enter the current year: '))\n",
    "    join_yr = int(input('enter the year employee joined work: '))\n",
    "    a = curr_yr - join_yr\n",
    "    if a > 3:\n",
    "        print('employee will be given bonus of Rs. 2500/-!')\n",
    "    else:\n",
    "        print('no bonus!!!')"
   ]
  },
  {
   "cell_type": "code",
   "execution_count": 69,
   "id": "f547e453",
   "metadata": {},
   "outputs": [
    {
     "name": "stdout",
     "output_type": "stream",
     "text": [
      "enter the current year: 2021\n",
      "enter the year employee joined work: 2015\n",
      "employee will be given bonus of Rs. 2500/-!\n"
     ]
    }
   ],
   "source": [
    "bonus()"
   ]
  },
  {
   "cell_type": "markdown",
   "id": "8956a5c4",
   "metadata": {},
   "source": [
    "11) The marks obtained by a student in 5 different subjects are input through the keyboard. The student gets a division as per the following rules: Percentage above or equal to 60 - First division, Percentage between 50 and 59 - Second division percentage between 40 and 49 - Third division, Percentage less than 40 - Fail. Write a program to calculate the division obtained by the student"
   ]
  },
  {
   "cell_type": "code",
   "execution_count": 1,
   "id": "14a5eb28",
   "metadata": {},
   "outputs": [],
   "source": [
    "def mrk():\n",
    "    marks = list()\n",
    "    phy = float(input('enter marks in physics: '))\n",
    "    marks.append(phy)\n",
    "    chem = float(input('enter marks in chemistry: '))\n",
    "    marks.append(chem)\n",
    "    math = float(input('enter marks in maths: '))\n",
    "    marks.append(math)\n",
    "    eco = float(input('enter marks in economics: '))\n",
    "    marks.append(eco)\n",
    "    eng = float(input('enter marks in english: '))\n",
    "    marks.append(eng)\n",
    "    print('the marks of all subjects are: ',marks)\n",
    "    avg = sum(marks)/len(marks)\n",
    "    print(avg)\n",
    "\n",
    "    if avg>=60:\n",
    "        return 'First div'\n",
    "    elif (avg>=50 and avg<=59):\n",
    "        return 'second div'\n",
    "    elif (avg>= 40 and avg<=49):\n",
    "        return 'third div'\n",
    "    else:\n",
    "        return 'FAIL'\n"
   ]
  },
  {
   "cell_type": "code",
   "execution_count": 2,
   "id": "e6ceece3",
   "metadata": {},
   "outputs": [
    {
     "name": "stdout",
     "output_type": "stream",
     "text": [
      "enter marks in physics: 75\n",
      "enter marks in chemistry: 60\n",
      "enter marks in maths: 64\n",
      "enter marks in economics: 73\n",
      "enter marks in english: 95\n",
      "the marks of all subjects are:  [75.0, 60.0, 64.0, 73.0, 95.0]\n",
      "73.4\n"
     ]
    },
    {
     "data": {
      "text/plain": [
       "'First div'"
      ]
     },
     "execution_count": 2,
     "metadata": {},
     "output_type": "execute_result"
    }
   ],
   "source": [
    "mrk()"
   ]
  },
  {
   "cell_type": "markdown",
   "id": "fc7b36d0",
   "metadata": {},
   "source": [
    "12) A company insures its drivers in the following cases: If the driver is married. If the driver is unmarried, male & above 30 years of age. If the driver is unmarried, female & above 25 years of age. In all other cases the driver is not insured. If the marital status, sex, and age of the driver are the inputs, write a program to determine whether the driver is to be insured or not"
   ]
  },
  {
   "cell_type": "code",
   "execution_count": 3,
   "id": "cb677ba2",
   "metadata": {},
   "outputs": [],
   "source": [
    "def insurance():\n",
    "    marital_stat = input('If married - enter Y. If not married - enter N: ')\n",
    "    gender = input('If male - enter M. If female - enter F: ')\n",
    "    age = int(input('Enter the age of driver: '))\n",
    "\n",
    "    if marital_stat == 'Y':\n",
    "        #marital_stat = input('If married - enter Y. If not married - enter N: ')\n",
    "        return 'insured'\n",
    "\n",
    "    elif (marital_stat == 'N' and gender == 'M' and age>30):\n",
    "        #gender = input('If male - enter M. If female - enter F: ')\n",
    "        #age = int(input('Enter the age of driver: '))\n",
    "        return 'insured'\n",
    "\n",
    "    elif (marital_stat == 'N' and gender == 'F' and age>25):\n",
    "        return 'insured'\n",
    "\n",
    "    else:\n",
    "        return 'UNINSURED!!!'"
   ]
  },
  {
   "cell_type": "code",
   "execution_count": 4,
   "id": "4f2a4cf0",
   "metadata": {},
   "outputs": [
    {
     "name": "stdout",
     "output_type": "stream",
     "text": [
      "If married - enter Y. If not married - enter N: Y\n",
      "If male - enter M. If female - enter F: F\n",
      "Enter the age of driver: 30\n"
     ]
    },
    {
     "data": {
      "text/plain": [
       "'insured'"
      ]
     },
     "execution_count": 4,
     "metadata": {},
     "output_type": "execute_result"
    }
   ],
   "source": [
    "insurance()"
   ]
  },
  {
   "cell_type": "markdown",
   "id": "e06a3eff",
   "metadata": {},
   "source": [
    "13) If cost price and selling price of an item is input through the keyboard, write a program to determine whether the seller has made profit or incurred loss. Also determine how much profit he made or loss he incurred."
   ]
  },
  {
   "cell_type": "code",
   "execution_count": 8,
   "id": "d2e4fbb0",
   "metadata": {},
   "outputs": [],
   "source": [
    "def profit(cp,sp):\n",
    "    if sp>cp:\n",
    "        print('seller made profit!')\n",
    "        print('percentage profit is: ', ((sp-cp)/cp)*100)\n",
    "    else:\n",
    "         print('seller is incurring loss!!!')\n",
    "         print('loss percentage is: ', ((cp-sp)/cp)*100)"
   ]
  },
  {
   "cell_type": "code",
   "execution_count": 13,
   "id": "0d5ad21f",
   "metadata": {},
   "outputs": [
    {
     "name": "stdout",
     "output_type": "stream",
     "text": [
      "seller made profit!\n",
      "percentage profit is:  20.0\n"
     ]
    }
   ],
   "source": [
    "profit(50,60)"
   ]
  },
  {
   "cell_type": "markdown",
   "id": "e99e4877",
   "metadata": {},
   "source": [
    "14) Any integer is input through the keyboard. Write a program to find out whether it is an odd number or even number."
   ]
  },
  {
   "cell_type": "code",
   "execution_count": 14,
   "id": "fc8dbce5",
   "metadata": {},
   "outputs": [],
   "source": [
    "def oddoreven(x):\n",
    "    if x%2==0:\n",
    "        return 'even'\n",
    "    else:\n",
    "        return 'odd'"
   ]
  },
  {
   "cell_type": "code",
   "execution_count": 15,
   "id": "b6462f4a",
   "metadata": {},
   "outputs": [
    {
     "data": {
      "text/plain": [
       "'odd'"
      ]
     },
     "execution_count": 15,
     "metadata": {},
     "output_type": "execute_result"
    }
   ],
   "source": [
    "oddoreven(5)"
   ]
  },
  {
   "cell_type": "code",
   "execution_count": 16,
   "id": "7ec65283",
   "metadata": {},
   "outputs": [
    {
     "data": {
      "text/plain": [
       "'even'"
      ]
     },
     "execution_count": 16,
     "metadata": {},
     "output_type": "execute_result"
    }
   ],
   "source": [
    "oddoreven(6)"
   ]
  },
  {
   "cell_type": "markdown",
   "id": "10b21123",
   "metadata": {},
   "source": [
    "**15) Any year is input through the keyboard. Write a program to determine whether the year is a leap year or not.**"
   ]
  },
  {
   "cell_type": "code",
   "execution_count": 85,
   "id": "be6a0d84",
   "metadata": {},
   "outputs": [],
   "source": [
    "def leap(year):\n",
    "    if year%400 == 0:\n",
    "        if (year%4 == 0 and year%100 != 0):\n",
    "            print('leap year!!!')\n",
    "        else:\n",
    "            print('not a leap year...')"
   ]
  },
  {
   "cell_type": "code",
   "execution_count": 86,
   "id": "750466cb",
   "metadata": {},
   "outputs": [
    {
     "name": "stdout",
     "output_type": "stream",
     "text": [
      "not a leap year...\n"
     ]
    }
   ],
   "source": [
    "leap(2000)"
   ]
  },
  {
   "cell_type": "markdown",
   "id": "0e7fc785",
   "metadata": {},
   "source": [
    "16) Remove duplicate values of a list a=[1,2,3,4,1,2,3,10]"
   ]
  },
  {
   "cell_type": "code",
   "execution_count": 35,
   "id": "45b49b43",
   "metadata": {},
   "outputs": [],
   "source": [
    "def unique(l):\n",
    "    s = set(l)\n",
    "    l =list(s)\n",
    "    return l"
   ]
  },
  {
   "cell_type": "code",
   "execution_count": 36,
   "id": "9e35defb",
   "metadata": {},
   "outputs": [
    {
     "data": {
      "text/plain": [
       "[1, 2, 3, 4, 10]"
      ]
     },
     "execution_count": 36,
     "metadata": {},
     "output_type": "execute_result"
    }
   ],
   "source": [
    "unique([1,2,3,4,1,2,3,10])"
   ]
  },
  {
   "cell_type": "markdown",
   "id": "fee2d1c4",
   "metadata": {},
   "source": [
    "17) Doing operations on the sets given below `"
   ]
  },
  {
   "cell_type": "code",
   "execution_count": 40,
   "id": "4da945f1",
   "metadata": {},
   "outputs": [],
   "source": [
    "s1 = set( [7,9, 12, 7, 9] ) \n",
    "s2 = set( ['abc', 12, 'b', 'car', 7, 10, 12 ]) \n",
    "s3 = set( [12, 14, 12, 'ab'] )"
   ]
  },
  {
   "cell_type": "code",
   "execution_count": 41,
   "id": "7d9c84e2",
   "metadata": {},
   "outputs": [],
   "source": [
    "# s1 & s2\n",
    "\n",
    "def anding(a,b):\n",
    "    return a&b"
   ]
  },
  {
   "cell_type": "code",
   "execution_count": 42,
   "id": "42702577",
   "metadata": {},
   "outputs": [
    {
     "data": {
      "text/plain": [
       "{7, 12}"
      ]
     },
     "execution_count": 42,
     "metadata": {},
     "output_type": "execute_result"
    }
   ],
   "source": [
    "anding(s1,s2)"
   ]
  },
  {
   "cell_type": "code",
   "execution_count": 43,
   "id": "ba696f20",
   "metadata": {},
   "outputs": [],
   "source": [
    "# s1 | s2\n",
    "\n",
    "def oring(a,b):\n",
    "    return a | b"
   ]
  },
  {
   "cell_type": "code",
   "execution_count": 44,
   "id": "dbcd461d",
   "metadata": {},
   "outputs": [
    {
     "data": {
      "text/plain": [
       "{10, 12, 7, 9, 'abc', 'b', 'car'}"
      ]
     },
     "execution_count": 44,
     "metadata": {},
     "output_type": "execute_result"
    }
   ],
   "source": [
    "oring(s1,s2)"
   ]
  },
  {
   "cell_type": "code",
   "execution_count": 46,
   "id": "a66446ff",
   "metadata": {},
   "outputs": [],
   "source": [
    "# 'b' in s2\n",
    "def check(l,x):\n",
    "    if x in l:\n",
    "        return True"
   ]
  },
  {
   "cell_type": "code",
   "execution_count": 48,
   "id": "8daa977f",
   "metadata": {},
   "outputs": [
    {
     "data": {
      "text/plain": [
       "True"
      ]
     },
     "execution_count": 48,
     "metadata": {},
     "output_type": "execute_result"
    }
   ],
   "source": [
    "check(['abc', 12, 'b', 'car', 7, 10, 12 ],'b')"
   ]
  },
  {
   "cell_type": "code",
   "execution_count": 54,
   "id": "22e4b8c5",
   "metadata": {},
   "outputs": [],
   "source": [
    "#'ab' in s2\n",
    "def check1(l,x):\n",
    "    if x in l:\n",
    "        return True\n",
    "    else:\n",
    "        return False"
   ]
  },
  {
   "cell_type": "code",
   "execution_count": 55,
   "id": "ad0b709d",
   "metadata": {},
   "outputs": [
    {
     "data": {
      "text/plain": [
       "False"
      ]
     },
     "execution_count": 55,
     "metadata": {},
     "output_type": "execute_result"
    }
   ],
   "source": [
    "check1(['abc', 12, 'b', 'car', 7, 10, 12 ],'ab')"
   ]
  },
  {
   "cell_type": "markdown",
   "id": "84661994",
   "metadata": {},
   "source": [
    "18) Write a program to convert keys in to values and vice versa"
   ]
  },
  {
   "cell_type": "code",
   "execution_count": 56,
   "id": "1ed71000",
   "metadata": {},
   "outputs": [],
   "source": [
    "def vversa(d):\n",
    "    a = list(d.keys())\n",
    "    b = list(d.values())\n",
    "    mm = zip(b,a)\n",
    "    return dict(mm)"
   ]
  },
  {
   "cell_type": "code",
   "execution_count": 57,
   "id": "7a989a21",
   "metadata": {},
   "outputs": [
    {
     "data": {
      "text/plain": [
       "{4: 'a', 5: 'l', 'python': 'c', 89: 'f'}"
      ]
     },
     "execution_count": 57,
     "metadata": {},
     "output_type": "execute_result"
    }
   ],
   "source": [
    "vversa({'a':4,'l':5,'c':\"python\",'f':89})"
   ]
  },
  {
   "cell_type": "markdown",
   "id": "351054f1",
   "metadata": {},
   "source": [
    "19) Python Program to Add a Key-Value Pair to the Dictionary"
   ]
  },
  {
   "cell_type": "code",
   "execution_count": 58,
   "id": "e6bb38fd",
   "metadata": {},
   "outputs": [],
   "source": [
    "def mod(d,k,v):\n",
    "    d[k]=v\n",
    "    return d"
   ]
  },
  {
   "cell_type": "code",
   "execution_count": 59,
   "id": "cdc2e881",
   "metadata": {},
   "outputs": [
    {
     "data": {
      "text/plain": [
       "{'a': 4, 'l': 5, 'c': 'python', 'f': 89, 'prakhar': 25}"
      ]
     },
     "execution_count": 59,
     "metadata": {},
     "output_type": "execute_result"
    }
   ],
   "source": [
    "mod({'a':4,'l':5,'c':\"python\",'f':89}, 'prakhar',25)"
   ]
  },
  {
   "cell_type": "markdown",
   "id": "b12e25a5",
   "metadata": {},
   "source": [
    "20) Python Program to Concatenate Two Dictionaries Into One"
   ]
  },
  {
   "cell_type": "code",
   "execution_count": 60,
   "id": "82724787",
   "metadata": {},
   "outputs": [],
   "source": [
    "def conc(d1,d2):\n",
    "    d1.update(d2)\n",
    "    return d1"
   ]
  },
  {
   "cell_type": "code",
   "execution_count": 61,
   "id": "4e68abf2",
   "metadata": {},
   "outputs": [
    {
     "data": {
      "text/plain": [
       "{'a': 100,\n",
       " 'b': 200,\n",
       " 'c': 300,\n",
       " 'Mike Jones': '281-330-8004',\n",
       " '1': '867-5309',\n",
       " '3': '900-783-3369'}"
      ]
     },
     "execution_count": 61,
     "metadata": {},
     "output_type": "execute_result"
    }
   ],
   "source": [
    "conc({'a': 100, 'b':200, 'c':300}, {\"Mike Jones\": \"281-330-8004\",'1': \"867-5309\",'3': \"900-783-3369\"})"
   ]
  },
  {
   "cell_type": "markdown",
   "id": "acb8514d",
   "metadata": {},
   "source": [
    "21) Python Program to Check if a Given Key Exists in a Dictionary or Not*"
   ]
  },
  {
   "cell_type": "code",
   "execution_count": 62,
   "id": "001b990c",
   "metadata": {},
   "outputs": [],
   "source": [
    "def check(d,k):\n",
    "    if k in d:\n",
    "        return True\n",
    "    else:\n",
    "        False"
   ]
  },
  {
   "cell_type": "code",
   "execution_count": 63,
   "id": "cd2bb6b2",
   "metadata": {},
   "outputs": [
    {
     "data": {
      "text/plain": [
       "True"
      ]
     },
     "execution_count": 63,
     "metadata": {},
     "output_type": "execute_result"
    }
   ],
   "source": [
    "check({'a': 4, 'l': 5, 'c': 'python', 'f': 89, 'prakhar': 25}, 'prakhar')"
   ]
  },
  {
   "cell_type": "markdown",
   "id": "98a59c81",
   "metadata": {},
   "source": [
    "22) Python Program to Sum All the Items in a Dictionary"
   ]
  },
  {
   "cell_type": "code",
   "execution_count": 66,
   "id": "14f21836",
   "metadata": {},
   "outputs": [],
   "source": [
    "def addsum(d):\n",
    "    tot = 0\n",
    "    for i in d:\n",
    "        tot = tot + d[i]\n",
    "    return tot"
   ]
  },
  {
   "cell_type": "code",
   "execution_count": 67,
   "id": "a62d6868",
   "metadata": {},
   "outputs": [
    {
     "data": {
      "text/plain": [
       "150"
      ]
     },
     "execution_count": 67,
     "metadata": {},
     "output_type": "execute_result"
    }
   ],
   "source": [
    "addsum({'a': 10, 'b': 20, 'c': 30, 'd': 40, 'e': 50})"
   ]
  },
  {
   "cell_type": "markdown",
   "id": "0c7190fb",
   "metadata": {},
   "source": [
    "23) Python Program to multiply All the Items in a Dictionary"
   ]
  },
  {
   "cell_type": "code",
   "execution_count": 69,
   "id": "f1d393e4",
   "metadata": {},
   "outputs": [],
   "source": [
    "def mult(d):\n",
    "    prod = 1\n",
    "    for i in d:\n",
    "        prod = prod * d[i]\n",
    "    return prod"
   ]
  },
  {
   "cell_type": "code",
   "execution_count": 71,
   "id": "c4a19f69",
   "metadata": {},
   "outputs": [
    {
     "data": {
      "text/plain": [
       "1200"
      ]
     },
     "execution_count": 71,
     "metadata": {},
     "output_type": "execute_result"
    }
   ],
   "source": [
    "mult({'a': 10, 'b': 2, 'c': 3, 'd': 4, 'e': 5})"
   ]
  },
  {
   "cell_type": "markdown",
   "id": "43f34773",
   "metadata": {},
   "source": [
    "24) Python Program to Remove the Given Key from a Dictionary"
   ]
  },
  {
   "cell_type": "code",
   "execution_count": 72,
   "id": "28ab5eac",
   "metadata": {},
   "outputs": [],
   "source": [
    "def delet(d,a):\n",
    "    del d[a]\n",
    "    return d"
   ]
  },
  {
   "cell_type": "code",
   "execution_count": 73,
   "id": "a96b8313",
   "metadata": {},
   "outputs": [
    {
     "data": {
      "text/plain": [
       "{'b': 2, 'c': 3, 'd': 4, 'e': 5}"
      ]
     },
     "execution_count": 73,
     "metadata": {},
     "output_type": "execute_result"
    }
   ],
   "source": [
    "delet({'a': 10, 'b': 2, 'c': 3, 'd': 4, 'e': 5}, 'a')"
   ]
  },
  {
   "cell_type": "markdown",
   "id": "44d754f3",
   "metadata": {},
   "source": [
    "25) Python Program to Map Two Lists into a Dictionary"
   ]
  },
  {
   "cell_type": "code",
   "execution_count": 74,
   "id": "b01f358c",
   "metadata": {},
   "outputs": [],
   "source": [
    "def twolists(l1,l2):\n",
    "    a = zip(l1,l2)\n",
    "    return dict(a)"
   ]
  },
  {
   "cell_type": "code",
   "execution_count": 75,
   "id": "e0126e56",
   "metadata": {},
   "outputs": [
    {
     "data": {
      "text/plain": [
       "{'samosa': 'India', 'pizza': 'Italy', 'burger': 'USA'}"
      ]
     },
     "execution_count": 75,
     "metadata": {},
     "output_type": "execute_result"
    }
   ],
   "source": [
    "twolists(['samosa', 'pizza', 'burger'], ['India', 'Italy', 'USA'])"
   ]
  },
  {
   "cell_type": "markdown",
   "id": "5f15a5a2",
   "metadata": {},
   "source": [
    "26) Python Program to Count the Frequency of Words Appearing in a String Using a Dictionary"
   ]
  },
  {
   "cell_type": "code",
   "execution_count": 76,
   "id": "4495585e",
   "metadata": {},
   "outputs": [],
   "source": [
    "def ct(s):\n",
    "    d = dict()\n",
    "    for i in s:\n",
    "        if i in d:\n",
    "            d[i] += 1\n",
    "        else:\n",
    "            d[i] = 1\n",
    "    return d"
   ]
  },
  {
   "cell_type": "code",
   "execution_count": 77,
   "id": "e2c1af66",
   "metadata": {},
   "outputs": [
    {
     "data": {
      "text/plain": [
       "{'p': 2, 'r': 3, 'a': 4, 'k': 1, 'h': 1, 's': 1, 'd': 1}"
      ]
     },
     "execution_count": 77,
     "metadata": {},
     "output_type": "execute_result"
    }
   ],
   "source": [
    "ct('prakharprasad')"
   ]
  },
  {
   "cell_type": "markdown",
   "id": "5cbb1f1e",
   "metadata": {},
   "source": [
    "27) Write a Python program to read an entire text file."
   ]
  },
  {
   "cell_type": "code",
   "execution_count": 78,
   "id": "76a97ed6",
   "metadata": {},
   "outputs": [],
   "source": [
    "def reading(fname):\n",
    "    f = open(fname)\n",
    "    print(f.read())\n",
    "    f.close()"
   ]
  },
  {
   "cell_type": "code",
   "execution_count": 79,
   "id": "200c03d3",
   "metadata": {},
   "outputs": [
    {
     "name": "stdout",
     "output_type": "stream",
     "text": [
      "Hello my name is Prakhar!\n",
      "i have a MS in data science \n",
      "i also have a BS in Electronics and Telecom\n",
      "5 years from now, I want to get an MBA degree too!\n",
      "\n",
      "Currently I am working as at Bluewater Fintech.\n",
      "BWFT is located in St. Louis Park, MN, USA.Currently I am working at Bluewater Fintech.\n",
      "BWFT is located in St. Louis Park, MN, USA.Currently I am working at Bluewater Fintech.\n",
      "BWFT is located in St. Louis Park, MN, USA.Currently I am working at Bluewater Fintech.\n",
      "BWFT is located in St. Louis Park, MN, USA.Currently I am working at Bluewater Fintech.\n",
      "BWFT is located in St. Louis Park, MN, USA.Currently I am working at Bluewater Fintech.\n",
      "BWFT is located in St. Louis Park, MN, USA.Currently I am working at Bluewater Fintech.\n",
      "BWFT is located in St. Louis Park, MN, USA.\n"
     ]
    }
   ],
   "source": [
    "reading('hw8.txt')"
   ]
  },
  {
   "cell_type": "markdown",
   "id": "58ca91f0",
   "metadata": {},
   "source": [
    "28) Write a Python program to read first n lines of a file"
   ]
  },
  {
   "cell_type": "code",
   "execution_count": 83,
   "id": "2e359e83",
   "metadata": {},
   "outputs": [],
   "source": [
    "def read_n_lines(fname, n):\n",
    "    f = open(fname)\n",
    "    for i in f.readlines()[:n]:\n",
    "        print(i)\n",
    "    f.close()"
   ]
  },
  {
   "cell_type": "code",
   "execution_count": 84,
   "id": "249ab808",
   "metadata": {},
   "outputs": [
    {
     "name": "stdout",
     "output_type": "stream",
     "text": [
      "Hello my name is Prakhar!\n",
      "\n",
      "i have a MS in data science \n",
      "\n",
      "i also have a BS in Electronics and Telecom\n",
      "\n",
      "5 years from now, I want to get an MBA degree too!\n",
      "\n"
     ]
    }
   ],
   "source": [
    "read_n_lines('hw8.txt',4)"
   ]
  },
  {
   "cell_type": "markdown",
   "id": "0f2f3219",
   "metadata": {},
   "source": [
    "29) Write a Python program to append text to a file and display the text"
   ]
  },
  {
   "cell_type": "code",
   "execution_count": 97,
   "id": "86607604",
   "metadata": {},
   "outputs": [],
   "source": [
    "def appn(fname, l):\n",
    "    f = open(fname, 'a')\n",
    "    f.writelines(l)\n",
    "    f = open('hw8.txt')\n",
    "    print(f.read())\n",
    "    f.close()"
   ]
  },
  {
   "cell_type": "code",
   "execution_count": 98,
   "id": "692367f8",
   "metadata": {},
   "outputs": [
    {
     "name": "stdout",
     "output_type": "stream",
     "text": [
      "Hello my name is Prakhar!\n",
      "i have a MS in data science \n",
      "i also have a BS in Electronics and Telecom\n",
      "5 years from now, I want to get an MBA degree too!\n",
      "\n",
      "Currently I am working as at Bluewater Fintech.\n",
      "BWFT is located in St. Louis Park, MN, USA.Currently I am working at Bluewater Fintech.\n",
      "BWFT is located in St. Louis Park, MN, USA.Currently I am working at Bluewater Fintech.\n",
      "BWFT is located in St. Louis Park, MN, USA.Currently I am working at Bluewater Fintech.\n",
      "BWFT is located in St. Louis Park, MN, USA.Currently I am working at Bluewater Fintech.\n",
      "BWFT is located in St. Louis Park, MN, USA.Currently I am working at Bluewater Fintech.\n",
      "BWFT is located in St. Louis Park, MN, USA.Currently I am working at Bluewater Fintech.\n",
      "BWFT is located in St. Louis Park, MN, USA.I LOVE PYTHONI LOVE PYTHON\n",
      "I LOVE PYTHON\n",
      "I LOVE PYTHON\n",
      "I LOVE PYTHON\n"
     ]
    }
   ],
   "source": [
    "appn('hw8.txt', ['\\nI LOVE PYTHON'])"
   ]
  },
  {
   "cell_type": "markdown",
   "id": "755988d9",
   "metadata": {},
   "source": [
    "30) Write a Python program to read last n lines of a file."
   ]
  },
  {
   "cell_type": "code",
   "execution_count": 100,
   "id": "0424da18",
   "metadata": {},
   "outputs": [],
   "source": [
    "def lastnline(fname, n):\n",
    "    f = open(fname, 'r')\n",
    "    for line in f.readlines()[-n:]:\n",
    "        print(line)\n",
    "    f.close()"
   ]
  },
  {
   "cell_type": "code",
   "execution_count": 101,
   "id": "a4c33b15",
   "metadata": {},
   "outputs": [
    {
     "name": "stdout",
     "output_type": "stream",
     "text": [
      "I LOVE PYTHON\n",
      "\n",
      "I LOVE PYTHON\n",
      "\n",
      "I LOVE PYTHON\n"
     ]
    }
   ],
   "source": [
    "lastnline('hw8.txt', 3)"
   ]
  },
  {
   "cell_type": "markdown",
   "id": "eefd8d43",
   "metadata": {},
   "source": [
    "31) Write a Python program to read a file line by line and store it into a list."
   ]
  },
  {
   "cell_type": "code",
   "execution_count": 102,
   "id": "cb4f5f1a",
   "metadata": {},
   "outputs": [],
   "source": [
    "def linelist(fname):\n",
    "    f = open(fname,'r')\n",
    "    l = f.readlines()\n",
    "    f.close()\n",
    "    return l"
   ]
  },
  {
   "cell_type": "code",
   "execution_count": 103,
   "id": "7a3f4e04",
   "metadata": {},
   "outputs": [
    {
     "data": {
      "text/plain": [
       "['Hello my name is Prakhar!\\n',\n",
       " 'i have a MS in data science \\n',\n",
       " 'i also have a BS in Electronics and Telecom\\n',\n",
       " '5 years from now, I want to get an MBA degree too!\\n',\n",
       " '\\n',\n",
       " 'Currently I am working as at Bluewater Fintech.\\n',\n",
       " 'BWFT is located in St. Louis Park, MN, USA.Currently I am working at Bluewater Fintech.\\n',\n",
       " 'BWFT is located in St. Louis Park, MN, USA.Currently I am working at Bluewater Fintech.\\n',\n",
       " 'BWFT is located in St. Louis Park, MN, USA.Currently I am working at Bluewater Fintech.\\n',\n",
       " 'BWFT is located in St. Louis Park, MN, USA.Currently I am working at Bluewater Fintech.\\n',\n",
       " 'BWFT is located in St. Louis Park, MN, USA.Currently I am working at Bluewater Fintech.\\n',\n",
       " 'BWFT is located in St. Louis Park, MN, USA.Currently I am working at Bluewater Fintech.\\n',\n",
       " 'BWFT is located in St. Louis Park, MN, USA.I LOVE PYTHONI LOVE PYTHON\\n',\n",
       " 'I LOVE PYTHON\\n',\n",
       " 'I LOVE PYTHON\\n',\n",
       " 'I LOVE PYTHON']"
      ]
     },
     "execution_count": 103,
     "metadata": {},
     "output_type": "execute_result"
    }
   ],
   "source": [
    "linelist('hw8.txt')"
   ]
  },
  {
   "cell_type": "markdown",
   "id": "9996550a",
   "metadata": {},
   "source": [
    "32) cube function"
   ]
  },
  {
   "cell_type": "code",
   "execution_count": 104,
   "id": "4a06ddad",
   "metadata": {},
   "outputs": [],
   "source": [
    "def cube(n):\n",
    "    m = n*n*n\n",
    "    return m"
   ]
  },
  {
   "cell_type": "code",
   "execution_count": 105,
   "id": "687efacb",
   "metadata": {},
   "outputs": [
    {
     "data": {
      "text/plain": [
       "8"
      ]
     },
     "execution_count": 105,
     "metadata": {},
     "output_type": "execute_result"
    }
   ],
   "source": [
    "cube(2)"
   ]
  },
  {
   "cell_type": "code",
   "execution_count": 106,
   "id": "450c1adc",
   "metadata": {},
   "outputs": [
    {
     "data": {
      "text/plain": [
       "27"
      ]
     },
     "execution_count": 106,
     "metadata": {},
     "output_type": "execute_result"
    }
   ],
   "source": [
    "cube(3)"
   ]
  },
  {
   "cell_type": "code",
   "execution_count": 107,
   "id": "5dfd7753",
   "metadata": {},
   "outputs": [
    {
     "data": {
      "text/plain": [
       "64"
      ]
     },
     "execution_count": 107,
     "metadata": {},
     "output_type": "execute_result"
    }
   ],
   "source": [
    "cube(4)"
   ]
  },
  {
   "cell_type": "markdown",
   "id": "f3fe8e0f",
   "metadata": {},
   "source": [
    "33) greet function "
   ]
  },
  {
   "cell_type": "code",
   "execution_count": 108,
   "id": "385b381d",
   "metadata": {},
   "outputs": [],
   "source": [
    "def hi(name):\n",
    "    print('hello ',name)"
   ]
  },
  {
   "cell_type": "code",
   "execution_count": 109,
   "id": "e6acbbca",
   "metadata": {},
   "outputs": [
    {
     "name": "stdout",
     "output_type": "stream",
     "text": [
      "hello  prakhar\n"
     ]
    }
   ],
   "source": [
    "hi('prakhar')"
   ]
  },
  {
   "cell_type": "markdown",
   "id": "ea551464",
   "metadata": {},
   "source": [
    "34) c to f"
   ]
  },
  {
   "cell_type": "code",
   "execution_count": 110,
   "id": "c1a1ecda",
   "metadata": {},
   "outputs": [],
   "source": [
    "def temp(c):\n",
    "    f = (c*9)/5 + 32\n",
    "    return f"
   ]
  },
  {
   "cell_type": "code",
   "execution_count": 111,
   "id": "90b9911e",
   "metadata": {},
   "outputs": [
    {
     "data": {
      "text/plain": [
       "-40.0"
      ]
     },
     "execution_count": 111,
     "metadata": {},
     "output_type": "execute_result"
    }
   ],
   "source": [
    "temp(-40)"
   ]
  },
  {
   "cell_type": "code",
   "execution_count": 112,
   "id": "3f1d1350",
   "metadata": {},
   "outputs": [
    {
     "data": {
      "text/plain": [
       "87.8"
      ]
     },
     "execution_count": 112,
     "metadata": {},
     "output_type": "execute_result"
    }
   ],
   "source": [
    "temp(31)"
   ]
  },
  {
   "cell_type": "markdown",
   "id": "20ab8192",
   "metadata": {},
   "source": [
    "35)convert_far_to_cel() which take one float parameter representing degrees Fahrenheit and returns a float representing the same temperature in degrees Celsius using the following formula: C = (F - 32) * 5/9 The script should first prompt the user to enter a temperature in degrees Fahrenheit and then display the temperature converted to Celsius. Then prompt the user to enter a temperature in degrees Celsius and display the temperature converted to Fahrenheit. All converted temperatures should be rounded to 2 decimal places. Here’s a sample run of the program: Enter a temperature in degrees F: 72 72 degress F = 22.22 degrees C Enter a temperature in degrees C: 37 37 degrees C = 98.60 degrees F"
   ]
  },
  {
   "cell_type": "code",
   "execution_count": 1,
   "id": "a3f2bcf0",
   "metadata": {},
   "outputs": [],
   "source": [
    "def convert_far_to_cel():\n",
    "    userf = float(input('enter a temp in degree f: '))\n",
    "    f = ((userf-32)*5)/9\n",
    "    return f"
   ]
  },
  {
   "cell_type": "code",
   "execution_count": 2,
   "id": "e12eeb06",
   "metadata": {},
   "outputs": [
    {
     "name": "stdout",
     "output_type": "stream",
     "text": [
      "enter a temp in degree f: 98.6\n"
     ]
    },
    {
     "data": {
      "text/plain": [
       "37.0"
      ]
     },
     "execution_count": 2,
     "metadata": {},
     "output_type": "execute_result"
    }
   ],
   "source": [
    "convert_far_to_cel()"
   ]
  },
  {
   "cell_type": "code",
   "execution_count": null,
   "id": "cf4264df",
   "metadata": {},
   "outputs": [],
   "source": []
  }
 ],
 "metadata": {
  "kernelspec": {
   "display_name": "Python 3",
   "language": "python",
   "name": "python3"
  },
  "language_info": {
   "codemirror_mode": {
    "name": "ipython",
    "version": 3
   },
   "file_extension": ".py",
   "mimetype": "text/x-python",
   "name": "python",
   "nbconvert_exporter": "python",
   "pygments_lexer": "ipython3",
   "version": "3.8.8"
  }
 },
 "nbformat": 4,
 "nbformat_minor": 5
}
