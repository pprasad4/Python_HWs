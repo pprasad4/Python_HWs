{
 "cells": [
  {
   "cell_type": "markdown",
   "id": "462b2f61",
   "metadata": {},
   "source": [
    "1. The current year and the year in which the employee joined the organization are entered through the keyboard. If the number of years for which the employee has served the organization is greater than 3 then a bonus of Rs. 2500/- is given to the employee. If the years of service are not greater than 3, then the program should do nothing."
   ]
  },
  {
   "cell_type": "code",
   "execution_count": 2,
   "id": "37656cae",
   "metadata": {},
   "outputs": [
    {
     "name": "stdout",
     "output_type": "stream",
     "text": [
      "Enter the current year: 2021\n",
      "Enter the year in which the employee joined: 2015\n",
      "Employee eligible for bonus!\n"
     ]
    }
   ],
   "source": [
    "curr_year = int(input(\"Enter the current year: \"))\n",
    "year_joined = int(input(\"Enter the year in which the employee joined: \"))\n",
    "bonus = 0\n",
    "\n",
    "if curr_year - year_joined > 3:\n",
    "    bonus += 2500\n",
    "    print('Employee eligible for bonus!')\n",
    "else:\n",
    "    print('New employee. No bonus...')"
   ]
  },
  {
   "cell_type": "markdown",
   "id": "3767d273",
   "metadata": {},
   "source": [
    "2. The marks obtained by a student in 5 different subjects are input through the keyboard. The student gets a division as   per the following rules: Percentage above or equal to 60 - First division, Percentage between 50 and 59 - Second division percentage between 40 and 49 - Third division, Percentage less than 40 - Fail. Write a program to calculate the division obtained by the student "
   ]
  },
  {
   "cell_type": "code",
   "execution_count": 9,
   "id": "461ab1df",
   "metadata": {},
   "outputs": [
    {
     "name": "stdout",
     "output_type": "stream",
     "text": [
      "enter marks in physics: 78\n",
      "enter marks in chemistry: 78\n",
      "enter marks in maths: 93\n",
      "enter marks in economics: 65\n",
      "enter marks in english: 86\n",
      "[78.0, 78.0, 93.0, 65.0, 86.0]\n",
      "80.0\n",
      "First Division\n"
     ]
    }
   ],
   "source": [
    "marks = []\n",
    "phy = float(input('enter marks in physics: '))\n",
    "marks.append(phy)\n",
    "chem = float(input('enter marks in chemistry: '))\n",
    "marks.append(chem)\n",
    "math = float(input('enter marks in maths: '))\n",
    "marks.append(math)\n",
    "eco = float(input('enter marks in economics: '))\n",
    "marks.append(eco)\n",
    "eng = float(input('enter marks in english: '))\n",
    "marks.append(eng)\n",
    "\n",
    "print(marks)\n",
    "\n",
    "avg = sum(marks)/len(marks)\n",
    "print(avg)\n",
    "\n",
    "if avg>=60:\n",
    "    print('First Division')\n",
    "elif (avg>=50 and avg<=59):\n",
    "    print('Second division')\n",
    "elif (avg>= 40 and avg<=49):\n",
    "    print('Thrid division')\n",
    "else:\n",
    "    print('FAIL!')"
   ]
  },
  {
   "cell_type": "markdown",
   "id": "534a7633",
   "metadata": {},
   "source": [
    "3. A company insures its drivers in the following cases: If the driver is married. If the driver is unmarried, male & above 30 years of age. If the driver is unmarried, female & above 25 years of age. In all other cases the driver is not insured. If the marital status, sex, and age of the driver are the inputs, write a program to determine whether the driver is to be insured or not"
   ]
  },
  {
   "cell_type": "code",
   "execution_count": 8,
   "id": "faa7a917",
   "metadata": {},
   "outputs": [
    {
     "name": "stdout",
     "output_type": "stream",
     "text": [
      "If married - enter Y. If not married - enter N: Y\n",
      "If male - enter M. If female - enter F: F\n",
      "Enter the age of driver: 12\n",
      "Insured\n"
     ]
    }
   ],
   "source": [
    "marital_stat = input('If married - enter Y. If not married - enter N: ')\n",
    "gender = input('If male - enter M. If female - enter F: ')\n",
    "age = int(input('Enter the age of driver: '))\n",
    "\n",
    "if marital_stat == 'Y':\n",
    "    #marital_stat = input('If married - enter Y. If not married - enter N: ')\n",
    "    print('Insured')\n",
    "\n",
    "elif (marital_stat == 'N' and gender == 'M' and age>30):\n",
    "    #gender = input('If male - enter M. If female - enter F: ')\n",
    "    #age = int(input('Enter the age of driver: '))\n",
    "    print('Insured')\n",
    "    \n",
    "elif (marital_stat == 'N' and gender == 'F' and age>25):\n",
    "    print('Insured')\n",
    "\n",
    "else:\n",
    "    ('UNINSURED!!')\n",
    "\n",
    "    "
   ]
  },
  {
   "cell_type": "markdown",
   "id": "b0593561",
   "metadata": {},
   "source": [
    "4. If cost price and selling price of an item is input through the keyboard, write a program to determine whether the seller has made profit or incurred loss. Also determine how much profit he made or loss he incurred."
   ]
  },
  {
   "cell_type": "code",
   "execution_count": 4,
   "id": "e140c1be",
   "metadata": {},
   "outputs": [
    {
     "name": "stdout",
     "output_type": "stream",
     "text": [
      "enter your cost price: 100\n",
      "enter your selling price: 90\n",
      "seller is incurring loss!!!\n",
      "loss percentage is:  10.0\n"
     ]
    }
   ],
   "source": [
    "cp = float(input('enter your cost price: '))\n",
    "sp = float(input('enter your selling price: '))\n",
    "\n",
    "if sp>cp:\n",
    "    print('seller made profit!')\n",
    "    print('percentage profit is: ', ((sp-cp)/cp)*100)\n",
    "\n",
    "else:\n",
    "    print('seller is incurring loss!!!')\n",
    "    print('loss percentage is: ', ((cp-sp)/cp)*100)"
   ]
  },
  {
   "cell_type": "markdown",
   "id": "723fc337",
   "metadata": {},
   "source": [
    "5. Any integer is input through the keyboard. Write a program to find out whether it is an odd number or even number."
   ]
  },
  {
   "cell_type": "code",
   "execution_count": 6,
   "id": "df36c4c1",
   "metadata": {},
   "outputs": [
    {
     "name": "stdout",
     "output_type": "stream",
     "text": [
      "enter any integer: 9\n",
      "This is an odd integer\n"
     ]
    }
   ],
   "source": [
    "a = int(input('enter any integer: '))\n",
    "\n",
    "if a%2 == 0:\n",
    "    print('This is an even integer.')\n",
    "else:\n",
    "    print('This is an odd integer')"
   ]
  },
  {
   "cell_type": "markdown",
   "id": "e170a24e",
   "metadata": {},
   "source": [
    "6. Any year is input through the keyboard. Write a program to determine whether the year is a leap year or not."
   ]
  },
  {
   "cell_type": "code",
   "execution_count": 10,
   "id": "5b7a5b70",
   "metadata": {},
   "outputs": [
    {
     "name": "stdout",
     "output_type": "stream",
     "text": [
      "Enter your year to check for leap year: 1900\n",
      "Not a leap year...\n"
     ]
    }
   ],
   "source": [
    "year = int(input('Enter your year to check for leap year: '))\n",
    "\n",
    "if year%400 == 0:\n",
    "    if (year%4 == 0 and year%100 != 0):\n",
    "        print('Leap year!!!')\n",
    "else:\n",
    "    print('Not a leap year...')"
   ]
  },
  {
   "cell_type": "code",
   "execution_count": null,
   "id": "2477a05f",
   "metadata": {},
   "outputs": [],
   "source": []
  }
 ],
 "metadata": {
  "kernelspec": {
   "display_name": "Python 3",
   "language": "python",
   "name": "python3"
  },
  "language_info": {
   "codemirror_mode": {
    "name": "ipython",
    "version": 3
   },
   "file_extension": ".py",
   "mimetype": "text/x-python",
   "name": "python",
   "nbconvert_exporter": "python",
   "pygments_lexer": "ipython3",
   "version": "3.8.8"
  }
 },
 "nbformat": 4,
 "nbformat_minor": 5
}
