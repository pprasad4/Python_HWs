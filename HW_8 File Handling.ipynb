{
 "cells": [
  {
   "cell_type": "markdown",
   "id": "d9133a7c",
   "metadata": {},
   "source": [
    "1. Write a Python program to read an entire text file."
   ]
  },
  {
   "cell_type": "code",
   "execution_count": null,
   "id": "0209b23f",
   "metadata": {},
   "outputs": [],
   "source": [
    "f = open('hw8.txt')\n",
    "print(f.read())\n",
    "f.close()"
   ]
  },
  {
   "cell_type": "markdown",
   "id": "ed5eae65",
   "metadata": {},
   "source": [
    "2.  Write a Python program to read first n lines of a file."
   ]
  },
  {
   "cell_type": "code",
   "execution_count": null,
   "id": "ea598525",
   "metadata": {},
   "outputs": [],
   "source": [
    "\n",
    "n = int(input('enter the first n lines that you want to read: '))\n",
    "print('\\n')\n",
    "fi = open('hw8.txt','r')\n",
    "for i in fi.readlines()[:n]:\n",
    "    print(i)\n",
    "fi.close()"
   ]
  },
  {
   "cell_type": "markdown",
   "id": "ac00e50f",
   "metadata": {},
   "source": [
    "3. Write a Python program to append text to a file and display the text."
   ]
  },
  {
   "cell_type": "code",
   "execution_count": null,
   "id": "05acab26",
   "metadata": {},
   "outputs": [],
   "source": [
    "fil = open('hw8.txt','a')\n",
    "\n",
    "l = ['Currently I am working at Bluewater Fintech.','\\nBWFT is located in St. Louis Park, MN, USA.']\n",
    "fil.writelines(l)\n",
    "fil.close()\n"
   ]
  },
  {
   "cell_type": "code",
   "execution_count": null,
   "id": "b3c53d8e",
   "metadata": {},
   "outputs": [],
   "source": [
    "fil = open('hw8.txt')\n",
    "print(fil.read())\n",
    "fil.close()"
   ]
  },
  {
   "cell_type": "markdown",
   "id": "28b11559",
   "metadata": {},
   "source": [
    "4. Write a Python program to read last n lines of a file."
   ]
  },
  {
   "cell_type": "code",
   "execution_count": null,
   "id": "c34fb6bc",
   "metadata": {},
   "outputs": [],
   "source": [
    "N = int(input('enter the number of last N lines you would like to read: '))\n",
    "\n",
    "f = open('humpty_dumpty.txt', 'r')\n",
    "for line in f.readlines()[-N:]:\n",
    "    print(line)\n",
    "f.close()"
   ]
  },
  {
   "cell_type": "markdown",
   "id": "915c6b07",
   "metadata": {},
   "source": [
    "5. Write a Python program to read a file line by line and store it into a list."
   ]
  },
  {
   "cell_type": "code",
   "execution_count": null,
   "id": "0117dc04",
   "metadata": {},
   "outputs": [],
   "source": [
    "fp = open('humpty_dumpty.txt','r')\n",
    "l = fp.readlines()\n",
    "fp.close()\n",
    "l\n",
    "#type(l)"
   ]
  },
  {
   "cell_type": "markdown",
   "id": "bdff8b77",
   "metadata": {},
   "source": [
    "6. Write a Python program to read a file line by line store it into a variable."
   ]
  },
  {
   "cell_type": "code",
   "execution_count": null,
   "id": "488b84f6",
   "metadata": {},
   "outputs": [],
   "source": [
    "with open('humpty_dumpty.txt','r') as myfile:\n",
    "    data = myfile.readlines()\n",
    "    print(data)"
   ]
  },
  {
   "cell_type": "markdown",
   "id": "69c3012f",
   "metadata": {},
   "source": [
    "7. Write a Python program to read a file line by line store it into an array"
   ]
  },
  {
   "cell_type": "code",
   "execution_count": null,
   "id": "7aa08dec",
   "metadata": {},
   "outputs": [],
   "source": [
    "myArr = []\n",
    "with open('humpty_dumpty.txt') as mon_file:\n",
    "    for line in mon_file:\n",
    "        myArr.append(line)\n",
    "myArr"
   ]
  },
  {
   "cell_type": "code",
   "execution_count": null,
   "id": "a300a1e1",
   "metadata": {},
   "outputs": [],
   "source": [
    "with open('humpty_dumpty.txt') as new_file:\n",
    "    n_arr = new_file.readlines()\n",
    "n_arr"
   ]
  },
  {
   "cell_type": "markdown",
   "id": "6073aded",
   "metadata": {},
   "source": [
    "8. Write a python program to find the longest words."
   ]
  },
  {
   "cell_type": "code",
   "execution_count": null,
   "id": "45331f8e",
   "metadata": {},
   "outputs": [],
   "source": [
    "word_lst = list()\n",
    "\n",
    "with open('diddle.txt') as didd:\n",
    "    for line in didd:\n",
    "        for word in line.split():\n",
    "            #word.replace(',','')\n",
    "            word_lst.append(word)\n",
    "word_lst\n",
    "max_len_word = max(word_lst,key=len)\n",
    "print(max_len_word)"
   ]
  },
  {
   "cell_type": "markdown",
   "id": "eae7eca4",
   "metadata": {},
   "source": [
    "9. Write a Python program to count the number of lines in a text file."
   ]
  },
  {
   "cell_type": "code",
   "execution_count": null,
   "id": "82a4d7e9",
   "metadata": {},
   "outputs": [],
   "source": [
    "count = 0\n",
    "with open('diddle.txt') as didd:\n",
    "    for line in didd:\n",
    "        count += 1\n",
    "count"
   ]
  },
  {
   "cell_type": "markdown",
   "id": "85cbf727",
   "metadata": {},
   "source": [
    "10. Write a Python program to count the frequency of words in a file."
   ]
  },
  {
   "cell_type": "code",
   "execution_count": null,
   "id": "e9ae8bb0",
   "metadata": {},
   "outputs": [],
   "source": [
    "d = {}\n",
    "word_lst = list()\n",
    "\n",
    "with open('diddle.txt') as didd:\n",
    "    for line in didd:\n",
    "        for word in line.split():\n",
    "            word_lst.append(word)\n",
    "            if word in d:\n",
    "                d[word] += 1\n",
    "            else:\n",
    "                d[word] = 1\n",
    "d"
   ]
  },
  {
   "cell_type": "markdown",
   "id": "20ba2518",
   "metadata": {},
   "source": [
    "11. Write a Python program to get the file size of a plain file."
   ]
  },
  {
   "cell_type": "code",
   "execution_count": null,
   "id": "3758b0e0",
   "metadata": {},
   "outputs": [],
   "source": [
    "import os\n",
    "\n",
    "file_size = os.path.getsize(\"humpty_dumpty.txt\")\n",
    "file_size # in bytes"
   ]
  },
  {
   "cell_type": "markdown",
   "id": "32fe9168",
   "metadata": {},
   "source": [
    "12. Write a Python program to write a list to a file."
   ]
  },
  {
   "cell_type": "code",
   "execution_count": 55,
   "id": "085bfa8a",
   "metadata": {},
   "outputs": [],
   "source": [
    "with open('writealist.txt','w') as wr:\n",
    "    my_file = ['I am prakhar.\\n',\n",
    "              'I am 25 years old.\\n',\n",
    "              'I like to play swim.\\n']\n",
    "    wr.writelines(my_file)"
   ]
  },
  {
   "cell_type": "markdown",
   "id": "1537b1a3",
   "metadata": {},
   "source": [
    "13. Write a Python program to copy the contents of a file to another file."
   ]
  },
  {
   "cell_type": "code",
   "execution_count": 56,
   "id": "3c9c50e3",
   "metadata": {},
   "outputs": [],
   "source": [
    "with open('hw8.txt') as f:\n",
    "    a = f.readlines()"
   ]
  },
  {
   "cell_type": "code",
   "execution_count": 57,
   "id": "0ace958d",
   "metadata": {},
   "outputs": [],
   "source": [
    "with open('writealist.txt', 'a') as newf:\n",
    "    newf.writelines(a)"
   ]
  },
  {
   "cell_type": "code",
   "execution_count": 58,
   "id": "260bda93",
   "metadata": {},
   "outputs": [
    {
     "name": "stdout",
     "output_type": "stream",
     "text": [
      "I am prakhar.\n",
      "I am 25 years old.\n",
      "I like to play swim.\n",
      "Hello my name is Prakhar!\n",
      "i have a MS in data science \n",
      "i also have a BS in Electronics and Telecom\n",
      "5 years from now, I want to get an MBA degree too!\n",
      "\n",
      "Currently I am working as at Bluewater Fintech.\n",
      "BWFT is located in St. Louis Park, MN, USA.Currently I am working at Bluewater Fintech.\n",
      "BWFT is located in St. Louis Park, MN, USA.Currently I am working at Bluewater Fintech.\n",
      "BWFT is located in St. Louis Park, MN, USA.Currently I am working at Bluewater Fintech.\n",
      "BWFT is located in St. Louis Park, MN, USA.Currently I am working at Bluewater Fintech.\n",
      "BWFT is located in St. Louis Park, MN, USA.Currently I am working at Bluewater Fintech.\n",
      "BWFT is located in St. Louis Park, MN, USA.Currently I am working at Bluewater Fintech.\n",
      "BWFT is located in St. Louis Park, MN, USA.\n"
     ]
    }
   ],
   "source": [
    "with open('writealist.txt') as f:\n",
    "    s = f.read()\n",
    "    print(s)"
   ]
  },
  {
   "cell_type": "markdown",
   "id": "79ca00b7",
   "metadata": {},
   "source": [
    "14. Write a Python program to combine each line from first file with the corresponding line in second file."
   ]
  },
  {
   "cell_type": "code",
   "execution_count": 59,
   "id": "c0ad7f1d",
   "metadata": {},
   "outputs": [],
   "source": [
    "with open ('humpty_dumpty.txt') as ht:\n",
    "    a1 = ht.readlines()\n",
    "with open('diddle.txt') as dd:\n",
    "    b1 = dd.readlines()\n",
    "    \n",
    "joint = zip(a1,b1)\n",
    "l = list(joint)"
   ]
  },
  {
   "cell_type": "code",
   "execution_count": 60,
   "id": "998d8dc0",
   "metadata": {},
   "outputs": [
    {
     "data": {
      "text/plain": [
       "[('Humpty Dumpty sat on a wall\\n',\n",
       "  'Hey, diddle, diddle, the cat and the fiddle\\n'),\n",
       " ('Humpty Dumpty had a great fall\\n', 'The cow jumped over the moon\\n'),\n",
       " (\"All the king's horses and all the king's men\\n\",\n",
       "  'The little dog laughed to see such fun\\n'),\n",
       " (\"Couldn't put Humpty together again\\n\",\n",
       "  'And the dish ran away with the spoon\\n'),\n",
       " ('Humpty Dumpty sat on a wall\\n',\n",
       "  'Hey, diddle, diddle, the cat and the fiddle\\n'),\n",
       " ('Humpty Dumpty had a great fall\\n', 'The cow jumped over the moon\\n'),\n",
       " (\"All the king's horses and all the king's men\\n\",\n",
       "  'The little dog laughed to see such fun\\n'),\n",
       " (\"Couldn't put Humpty together again\\n\",\n",
       "  'And the dish ran away with the spoon\\n'),\n",
       " ('Humpty Dumpty sat on a wall\\n',\n",
       "  'Hey, diddle, diddle, the cat and the fiddle\\n'),\n",
       " ('Humpty Dumpty had a great fall\\n', 'The cow jumped over the moon\\n'),\n",
       " (\"All the king's horses and all the king's men\\n\",\n",
       "  'The little dog laughed to see such fun\\n'),\n",
       " (\"Couldn't put Humpty together again\",\n",
       "  'And the dish ran away with the spoon')]"
      ]
     },
     "execution_count": 60,
     "metadata": {},
     "output_type": "execute_result"
    }
   ],
   "source": [
    "l"
   ]
  },
  {
   "cell_type": "markdown",
   "id": "96154929",
   "metadata": {},
   "source": [
    "15. Write a Python program to read a random line from a file."
   ]
  },
  {
   "cell_type": "code",
   "execution_count": null,
   "id": "bf8f36e9",
   "metadata": {},
   "outputs": [],
   "source": []
  }
 ],
 "metadata": {
  "kernelspec": {
   "display_name": "Python 3",
   "language": "python",
   "name": "python3"
  },
  "language_info": {
   "codemirror_mode": {
    "name": "ipython",
    "version": 3
   },
   "file_extension": ".py",
   "mimetype": "text/x-python",
   "name": "python",
   "nbconvert_exporter": "python",
   "pygments_lexer": "ipython3",
   "version": "3.8.8"
  }
 },
 "nbformat": 4,
 "nbformat_minor": 5
}
