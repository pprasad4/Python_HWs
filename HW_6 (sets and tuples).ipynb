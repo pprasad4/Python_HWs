{
 "cells": [
  {
   "cell_type": "markdown",
   "id": "fe3356c9",
   "metadata": {},
   "source": [
    "Remove duplicate values of a list a=[1,2,3,4,1,2,3,10]"
   ]
  },
  {
   "cell_type": "code",
   "execution_count": 5,
   "id": "c5050a32",
   "metadata": {},
   "outputs": [
    {
     "data": {
      "text/plain": [
       "[1, 2, 3, 4, 10]"
      ]
     },
     "execution_count": 5,
     "metadata": {},
     "output_type": "execute_result"
    }
   ],
   "source": [
    "a=[1,2,3,4,1,2,3,10]\n",
    "s = set(a)\n",
    "l = list(s)\n",
    "l"
   ]
  },
  {
   "cell_type": "code",
   "execution_count": 6,
   "id": "b38823b8",
   "metadata": {},
   "outputs": [],
   "source": [
    "s1 = set( [7,9, 12, 7, 9] ) \n",
    "s2 = set( ['abc', 12, 'b', 'car', 7, 10, 12 ]) \n",
    "s3 = set( [12, 14, 12, 'ab'] )"
   ]
  },
  {
   "cell_type": "code",
   "execution_count": 7,
   "id": "17e9909b",
   "metadata": {},
   "outputs": [
    {
     "data": {
      "text/plain": [
       "{7, 12}"
      ]
     },
     "execution_count": 7,
     "metadata": {},
     "output_type": "execute_result"
    }
   ],
   "source": [
    "s1 & s2"
   ]
  },
  {
   "cell_type": "code",
   "execution_count": 9,
   "id": "fdbfb771",
   "metadata": {},
   "outputs": [
    {
     "data": {
      "text/plain": [
       "{10, 12, 7, 9, 'abc', 'b', 'car'}"
      ]
     },
     "execution_count": 9,
     "metadata": {},
     "output_type": "execute_result"
    }
   ],
   "source": [
    "s1 | s2"
   ]
  },
  {
   "cell_type": "code",
   "execution_count": 11,
   "id": "609b060e",
   "metadata": {},
   "outputs": [
    {
     "name": "stdout",
     "output_type": "stream",
     "text": [
      "True\n"
     ]
    }
   ],
   "source": [
    "print('b' in s2)"
   ]
  },
  {
   "cell_type": "code",
   "execution_count": 12,
   "id": "c97cac62",
   "metadata": {},
   "outputs": [
    {
     "name": "stdout",
     "output_type": "stream",
     "text": [
      "False\n"
     ]
    }
   ],
   "source": [
    "print('ab' in s2)"
   ]
  },
  {
   "cell_type": "code",
   "execution_count": 13,
   "id": "2b6b5d64",
   "metadata": {},
   "outputs": [
    {
     "name": "stdout",
     "output_type": "stream",
     "text": [
      "True\n"
     ]
    }
   ],
   "source": [
    "print('ab' in s3)"
   ]
  },
  {
   "cell_type": "code",
   "execution_count": 15,
   "id": "b2429e2a",
   "metadata": {},
   "outputs": [
    {
     "data": {
      "text/plain": [
       "{10, 7, 'abc', 'b', 'car'}"
      ]
     },
     "execution_count": 15,
     "metadata": {},
     "output_type": "execute_result"
    }
   ],
   "source": [
    "s2.discard(12)\n",
    "s2"
   ]
  },
  {
   "cell_type": "code",
   "execution_count": 19,
   "id": "18d33363",
   "metadata": {},
   "outputs": [
    {
     "data": {
      "text/plain": [
       "{7}"
      ]
     },
     "execution_count": 19,
     "metadata": {},
     "output_type": "execute_result"
    }
   ],
   "source": [
    "s1&s2"
   ]
  },
  {
   "cell_type": "code",
   "execution_count": 20,
   "id": "2f070134",
   "metadata": {},
   "outputs": [
    {
     "data": {
      "text/plain": [
       "{12, 14, 7, 'ab'}"
      ]
     },
     "execution_count": 20,
     "metadata": {},
     "output_type": "execute_result"
    }
   ],
   "source": [
    "(s1&s2)^s3"
   ]
  },
  {
   "cell_type": "markdown",
   "id": "bff30714",
   "metadata": {},
   "source": [
    "Given three sets, s1, s2, and s3, write a short segment of Python code to find the values that are in exactly one of the three sets. The result should be stored in a set called s. You may NOT use any loops."
   ]
  },
  {
   "cell_type": "code",
   "execution_count": null,
   "id": "a27a9a2e",
   "metadata": {},
   "outputs": [],
   "source": []
  }
 ],
 "metadata": {
  "kernelspec": {
   "display_name": "Python 3",
   "language": "python",
   "name": "python3"
  },
  "language_info": {
   "codemirror_mode": {
    "name": "ipython",
    "version": 3
   },
   "file_extension": ".py",
   "mimetype": "text/x-python",
   "name": "python",
   "nbconvert_exporter": "python",
   "pygments_lexer": "ipython3",
   "version": "3.8.8"
  }
 },
 "nbformat": 4,
 "nbformat_minor": 5
}
