{
 "cells": [
  {
   "cell_type": "code",
   "execution_count": 2,
   "id": "d33b5da9",
   "metadata": {},
   "outputs": [
    {
     "name": "stdout",
     "output_type": "stream",
     "text": [
      "the new value of x is:  99\n",
      "the new value of y is:  10\n"
     ]
    }
   ],
   "source": [
    "x = 10 \n",
    "y = 99\n",
    "z = x # z = 10\n",
    "x = y # x = 99\n",
    "y = z # y = 10\n",
    "\n",
    "print('the new value of x is: ',x)\n",
    "print('the new value of y is: ',y)"
   ]
  },
  {
   "cell_type": "markdown",
   "id": "d8bf1439",
   "metadata": {},
   "source": [
    "Assignment 1\n",
    "\n",
    "1.\tHow is a C program compiled?\n",
    "\n",
    "Ans. The process of compiling means transforming a high-level language to a low-level language that the machine understands. For example, English to some language that the computer understands. The compiler is a program that takes the code written in a high-level language and transforms it into a new language that can be understood by the computer. The following steps take place when compiling a C program:\n",
    "\n",
    "a.\tPre-processing: this is the first phase through which the code is passed. In this phase the following happens – comments are removed, macros are expanded, included files are expanded, and conditional compilation. \n",
    "b.\tCompiling: In this step the preprocessed code is translated to assembly specific to the target processor architecture. \n",
    "c.\tAssembly: Here an assembler is used to translate the assembly instructions to object code. The output consists of actual instructions to be run by the target processor. \n",
    "d.\tLinking: the output from the previous stage has some missing and out of order pieces. In this stage, to make the program executable, missing pieces are filled and out of order are rearranged. \n",
    "\n",
    "2.\tMemory structure of a C program. \n",
    "\n",
    "Ans. Memory structure of a C program has following sections:\n",
    "a.\tText segment: Also called code segment, is one of the sections of a program in an object file or in memory containing executable instructions. It is placed below heap and stack from overwriting it. It is often read-only to prevent a program from modifying its instructions. \n",
    "b.\tInitialized data segment: It is  a portion of the virtual address space of a program containing global and static variables initialized by the programmer. This segment can be of type read-only or read-write since the values of variables can be altered at run time. \n",
    "c.\tUninitialized data segment: data in this segment is initialized to 0 by the kernel before the program starts executing. Uninitialized data starts at the end of the data segment and contains all global variables and static variables that are initialized to 0 or do not have explicit initialization in source code.\t\n",
    "d.\tHeap: dynamic memory allocation takes place here. When more memory needs to be allocated, heap increases. It is shared by all shared libraries and dynamically loaded modules in a process. \n",
    "e.\tStack: Stack segment is used to store all local variables and is used for passing arguments to the functions along with the return address of the instruction which is to be executed after the function call is over. Local variables have a scope to the block which they are defined in, they are created when control enters into the block. All recursive function calls are added to stack. The stack and heap are located at opposite ends.\n"
   ]
  }
 ],
 "metadata": {
  "kernelspec": {
   "display_name": "Python 3",
   "language": "python",
   "name": "python3"
  },
  "language_info": {
   "codemirror_mode": {
    "name": "ipython",
    "version": 3
   },
   "file_extension": ".py",
   "mimetype": "text/x-python",
   "name": "python",
   "nbconvert_exporter": "python",
   "pygments_lexer": "ipython3",
   "version": "3.8.8"
  }
 },
 "nbformat": 4,
 "nbformat_minor": 5
}
